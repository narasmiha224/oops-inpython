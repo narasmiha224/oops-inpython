{
 "cells": [
  {
   "cell_type": "code",
   "execution_count": 9,
   "id": "525fc5b3-70f4-4f49-b6fa-6c805f228fc0",
   "metadata": {},
   "outputs": [
    {
     "name": "stdout",
     "output_type": "stream",
     "text": [
      "Animal sound\n",
      "Dog barks\n",
      "puppy weep......!\n"
     ]
    }
   ],
   "source": [
    " #  multi-level inheritance\n",
    "class pet:\n",
    "    def sound(self):\n",
    "        print(\"Animal sound\")\n",
    "class dog(pet):\n",
    "    def bark(self):\n",
    "        print(\"Dog barks\")\n",
    "class puppy(dog):\n",
    "    def weep(self):\n",
    "        print(\"puppy weep......!\")\n",
    "p=puppy()\n",
    "p.sound()\n",
    "p.bark()\n",
    "p.weep()"
   ]
  },
  {
   "cell_type": "code",
   "execution_count": 30,
   "id": "53cdfd23-2748-4a84-9762-f1324556e932",
   "metadata": {},
   "outputs": [
    {
     "name": "stdin",
     "output_type": "stream",
     "text": [
      " 10\n",
      " 20\n"
     ]
    },
    {
     "name": "stdout",
     "output_type": "stream",
     "text": [
      "Add : 30\n",
      "sub : -10\n",
      "mul : 200\n",
      "div : 0.5\n"
     ]
    }
   ],
   "source": [
    "''' code for math operations using base class, with 1st &2 nd derived class respectivly \n",
    "create an object derived will be excuted multiple operatins'''\n",
    "\n",
    "class number():\n",
    "    def __init__(self,a,b):\n",
    "        self.a=a\n",
    "        self.b=b\n",
    "class basicops(number):\n",
    "    def add(self,a,b):\n",
    "        return self.a+self.b\n",
    "    def sub(self,a,b):\n",
    "        return self.a-self.b\n",
    "class advops(basicops):\n",
    "    def mul(self,a,b):\n",
    "        return self.a*self.b\n",
    "    def div(self,a,b):\n",
    "        return self.a/self.b\n",
    "n1=int(input())\n",
    "n2=int(input())\n",
    "obj=advops(n1,n2)\n",
    "print(\"Add :\",obj.add(n1,n2))\n",
    "print(\"sub :\",obj.sub(n1,n2))\n",
    "print(\"mul :\",obj.mul(n1,n2))\n",
    "print(\"div :\",obj.div(n1,n2))\n",
    "\n"
   ]
  },
  {
   "cell_type": "code",
   "execution_count": null,
   "id": "49652842-4251-4b61-a64b-5825b98b3d63",
   "metadata": {},
   "outputs": [],
   "source": [
    "''' code for student grading system where student base class has to be derived by marks and marks with grades in a multi-level inheritance caliculate the grade to be alloted to the student with marks A,B,C,D with >=90, >=75, >=60 or less than 60 respectively\n",
    "student: Henry\n",
    "marks: [85, 90, 78, 92]\n",
    "caliculate and display marks, avg, grade of Henry'''"
   ]
  },
  {
   "cell_type": "code",
   "execution_count": null,
   "id": "3703260f-3305-4257-87ae-c24f0fb06301",
   "metadata": {},
   "outputs": [],
   "source": []
  },
  {
   "cell_type": "code",
   "execution_count": 62,
   "id": "c0c9cdac-6c67-498b-b13b-e634de02bc21",
   "metadata": {},
   "outputs": [
    {
     "name": "stdin",
     "output_type": "stream",
     "text": [
      "enter the student name narasimha\n",
      "enter the number of subjects 5\n",
      "enter the marks for subject1: 99\n",
      "enter the marks for subject2: 99\n",
      "enter the marks for subject3: 99\n",
      "enter the marks for subject4: 99\n",
      "enter the marks for subject5: 99\n"
     ]
    },
    {
     "name": "stdout",
     "output_type": "stream",
     "text": [
      "Student Name: narasimha\n",
      "Total marks: 495.0\n",
      "Average: 99.0\n",
      "Student Grade: A\n"
     ]
    }
   ],
   "source": [
    "class student:\n",
    "    def __init__(self,name):\n",
    "        self.name=name\n",
    "class marks(student):\n",
    "    def __init__(self,name,marks):\n",
    "        super().__init__(name)\n",
    "        self.marks=marks\n",
    "    def total_marks(self):\n",
    "        return sum(self.marks)\n",
    "class grade(marks):\n",
    "    def average(self):\n",
    "        return self.total_marks()/len(self.marks)\n",
    "    def cal_grade(self):\n",
    "        avg=self.average()\n",
    "        if avg>=90:\n",
    "            return 'A'\n",
    "        elif avg>=75:\n",
    "            return 'B'\n",
    "        elif avg>=60:\n",
    "            return 'C'\n",
    "        else:\n",
    "            return 'D'\n",
    "\n",
    "name= input(\"enter the student name\")\n",
    "subjects=int(input(\"enter the number of subjects\"))\n",
    "marks= []\n",
    "for i in range(subjects):\n",
    "    mark= float(input(f\"enter the marks for subject{i+1}:\"))\n",
    "    marks.append(mark)\n",
    "student=grade (name,marks)\n",
    "print(\"Student Name:\", student.name)\n",
    "print(\"Total marks:\", student.total_marks())\n",
    "print(\"Average:\", student.average())\n",
    "print(\"Student Grade:\", student.cal_grade())\n"
   ]
  },
  {
   "cell_type": "code",
   "execution_count": null,
   "id": "d4ed0d89-6bac-4b85-9869-aeddf15b4243",
   "metadata": {},
   "outputs": [],
   "source": [
    "--------------------------------------------------------------------------------------------------------------------------------------------------------------------\n",
    "-----------------------------------------------------------------------------------------------------------------------------------------------------------------------------"
   ]
  },
  {
   "cell_type": "code",
   "execution_count": 68,
   "id": "2361df22-f842-4305-8540-7fb47d1681e9",
   "metadata": {},
   "outputs": [
    {
     "name": "stdout",
     "output_type": "stream",
     "text": [
      "Milo barks!!\n",
      "kitty Meows!!\n"
     ]
    }
   ],
   "source": [
    "# hierarchical inheritance\n",
    "class pet:\n",
    "    def __init__(self, name):\n",
    "        self.name= name\n",
    "    def sound(self):\n",
    "        print(f\" {self.name} makes a sound\")\n",
    "class dog(pet):\n",
    "    def sound(self):\n",
    "        print(f\"{self.name} barks!!\")\n",
    "class cat(pet):\n",
    "    def sound(self):\n",
    "        print(f\"{self.name} Meows!!\")\n",
    "d=dog(\"Milo\")\n",
    "c=cat(\"kitty\")\n",
    "d.sound()\n",
    "c.sound()"
   ]
  },
  {
   "cell_type": "code",
   "execution_count": 11,
   "id": "82d5af17-64ca-4cae-82f0-93811def63e1",
   "metadata": {},
   "outputs": [
    {
     "name": "stdout",
     "output_type": "stream",
     "text": [
      "Area of rectangle: 50\n",
      "Area of circle: 43.982297150257104\n",
      "Area of triangle: 24.0\n"
     ]
    }
   ],
   "source": [
    "''' Hierarchical geometry operations of different shapes area values of all \n",
    "circle, rectangle, triangle derived classes'''\n",
    "import math\n",
    "class shape():\n",
    "    def __init__(self,d1,d2=0):\n",
    "        self.d1=d1\n",
    "        self.d2=d2\n",
    "class rectangle(shape):\n",
    "    def area(self):\n",
    "        return self.d1*self.d2\n",
    "class circle(shape):\n",
    "    def area(self):\n",
    "        return math.pi*self.d1*2\n",
    "class triangle(shape):\n",
    "    def area(self):\n",
    "        return 0.5 *self.d1 * self.d2\n",
    "rect=rectangle(10,5)\n",
    "cir=circle(7)\n",
    "tri=triangle(8,6)\n",
    "print(\"Area of rectangle:\", rect.area())\n",
    "print(\"Area of circle:\", cir.area())\n",
    "print(\"Area of triangle:\", tri.area())\n",
    "    \n"
   ]
  },
  {
   "cell_type": "code",
   "execution_count": null,
   "id": "fe47a637-b2a9-4068-bda9-451af669aee1",
   "metadata": {},
   "outputs": [],
   "source": [
    "# Abstraction of the bas class for evaluating the area of sq, rect ,tri\n",
    "from math import pi\n"
   ]
  },
  {
   "cell_type": "code",
   "execution_count": 51,
   "id": "27ea950a-5803-48a8-9712-e7be9127caf6",
   "metadata": {},
   "outputs": [
    {
     "name": "stdout",
     "output_type": "stream",
     "text": [
      "Area of rectangle: 50\n",
      "Area of circle: 153.9\n",
      "Area of triangle: 24\n"
     ]
    }
   ],
   "source": [
    "from abc import ABC, abstractmethod\n",
    "from math import pi\n",
    "class shape(ABC):\n",
    "    def __init__(self,name):\n",
    "        self.name=name\n",
    "        @abstractmethod\n",
    "        def area(self):\n",
    "            pass\n",
    "class rectangle(shape):\n",
    "    def __init__(self,l,b):\n",
    "        super().__init__(\"rectangle\")\n",
    "        self.l=l\n",
    "        self.b=b\n",
    "    def area(self):\n",
    "        return self.l*self.b\n",
    "class circle(shape):\n",
    "    def __init__(self,r):\n",
    "        self.r=r\n",
    "    def area(self):\n",
    "        return pi*self.r**2\n",
    "class triangle(shape):\n",
    "    def __init__(self,b,h):\n",
    "        super().__init__(\"triangle\")\n",
    "        self.b=b\n",
    "        self.h=h\n",
    "    def area(self):\n",
    "        return 0.5 *self.b * self.h\n",
    "rect=rectangle(10,5)\n",
    "cir=circle(7)\n",
    "tri=triangle(8,6)\n",
    "print(\"Area of rectangle:\", rect.area())\n",
    "print(f\"Area of circle: {cir.area():.1f}\")\n",
    "print(f\"Area of triangle: {tri.area():.0f}\")\n",
    "    \n"
   ]
  },
  {
   "cell_type": "code",
   "execution_count": null,
   "id": "06ec7ae3-2fe6-4ba8-a0a6-fde7dd8310cf",
   "metadata": {},
   "outputs": [],
   "source": []
  }
 ],
 "metadata": {
  "kernelspec": {
   "display_name": "Python 3 (ipykernel)",
   "language": "python",
   "name": "python3"
  },
  "language_info": {
   "codemirror_mode": {
    "name": "ipython",
    "version": 3
   },
   "file_extension": ".py",
   "mimetype": "text/x-python",
   "name": "python",
   "nbconvert_exporter": "python",
   "pygments_lexer": "ipython3",
   "version": "3.12.7"
  }
 },
 "nbformat": 4,
 "nbformat_minor": 5
}
