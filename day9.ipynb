{
 "cells": [
  {
   "cell_type": "code",
   "execution_count": 23,
   "id": "d1ce54ba-e484-42c4-b591-8681c6fbbc4b",
   "metadata": {},
   "outputs": [
    {
     "name": "stdout",
     "output_type": "stream",
     "text": [
      "BMW\n",
      "160\n",
      "At the Speed Of 60\n"
     ]
    }
   ],
   "source": [
    "# encapsulation \n",
    "'''basic encapulation with attributes, private attributes \n",
    "1. __var,__x\n",
    "self.__a\n",
    "'''\n",
    "class car:\n",
    "    def __init__(self,brand,speed):\n",
    "        self.brand=brand\n",
    "        self.__speed=speed\n",
    "    def get_speed(self):\n",
    "        return self.__speed\n",
    "    def set_speed(self,speed):\n",
    "        if speed>=0:\n",
    "            self.__speed=speed\n",
    "            return f\"At the Speed Of {speed}\"\n",
    "        else :\n",
    "            print(\"Car is not movinmg \")\n",
    "obj=car(\"BMW\",160)\n",
    "print(obj.brand)\n",
    "print(obj.get_speed())\n",
    "print(obj.set_speed(60))"
   ]
  },
  {
   "cell_type": "code",
   "execution_count": 74,
   "id": "a6eff9ba-21db-4983-8a21-63b40dbd7d27",
   "metadata": {},
   "outputs": [
    {
     "name": "stdout",
     "output_type": "stream",
     "text": [
      "Name : ROY my age : 22\n"
     ]
    }
   ],
   "source": [
    "#protected attributes \n",
    "class student():\n",
    "    def __init__(self,name,age):\n",
    "        self._name=name\n",
    "        self._age=age\n",
    "    def display(self):\n",
    "        print(f\"Name : {self._name} my age : {self._age}\")\n",
    "obj=student(\"ROY\",22)\n",
    "obj.display()"
   ]
  },
  {
   "cell_type": "code",
   "execution_count": 5,
   "id": "4fb32cab-2625-4497-ae5f-238ed9d5784c",
   "metadata": {},
   "outputs": [
    {
     "data": {
      "text/plain": [
       "28000.0"
      ]
     },
     "execution_count": 5,
     "metadata": {},
     "output_type": "execute_result"
    }
   ],
   "source": [
    "# private method\n",
    "class emp:\n",
    "    def __init__(self,name,sal):\n",
    "        self.name=name\n",
    "        self.__sal=sal\n",
    "    def __bonus(self):\n",
    "        return self.__sal*0.4\n",
    "    def pack(self):\n",
    "        return self.__sal + self.__bonus()\n",
    "e=emp(\"Hemanth\",20000)\n",
    "e.pack()\n"
   ]
  },
  {
   "cell_type": "code",
   "execution_count": 72,
   "id": "8b1bfa04-10e5-44aa-889d-d2c56022bcf1",
   "metadata": {},
   "outputs": [
    {
     "name": "stdout",
     "output_type": "stream",
     "text": [
      "AVG : 96.66666666666667\n",
      "Name : Roy, GPA :96.67\n"
     ]
    }
   ],
   "source": [
    "class students:\n",
    "    def __init__(self,name,marks):\n",
    "        self._name=name\n",
    "        self._marks=marks\n",
    "    def get_asc(self):\n",
    "        self.__marks=marks\n",
    "    def display(self):\n",
    "        s=sum(self._marks)\n",
    "        a=len(self._marks)\n",
    "        avg=s/a\n",
    "        if s == 0:\n",
    "            return 0\n",
    "        else :\n",
    "            print(f\"AVG : {avg}\")\n",
    "            print(f\"Name : {self._name}, GPA :{avg:.2f}\")\n",
    "obj=students(\"Roy\",[99,99,96,99,97,90])\n",
    "obj.display()"
   ]
  },
  {
   "cell_type": "code",
   "execution_count": 82,
   "id": "1dbb0bbe-730d-4b37-9cd8-923bfb6644e6",
   "metadata": {},
   "outputs": [
    {
     "name": "stdout",
     "output_type": "stream",
     "text": [
      "0.0\n",
      " Name: Vijay, GPA: 0.00\n"
     ]
    }
   ],
   "source": [
    "class student:\n",
    "    def __init__(self, name, grades):\n",
    "        self._name =name\n",
    "        self._grades = grades\n",
    "    def gpa(self):\n",
    "        if not self._grades:\n",
    "            return 0\n",
    "        return sum(self._grades)/len(self._grades)\n",
    "    def display_info(self):\n",
    "        print(f\" Name: {self._name}, GPA: {self.gpa():.2f}\")\n",
    "s= student(\"Vijay\", [0,0,0])\n",
    "print(s.gpa())\n",
    "s.display_info()"
   ]
  },
  {
   "cell_type": "code",
   "execution_count": null,
   "id": "676863e8-4339-4376-b2b7-e2cc63444c89",
   "metadata": {},
   "outputs": [],
   "source": [
    "'''Built-in Exception\n",
    "1. Exceptionn\n",
    "2. StandardError\n",
    "3. SystemError sys.exit()\n",
    "4. OverflowError\n",
    "5. ArthmeticError\n",
    "6. IndexError\n",
    "7. KeyError\n",
    "8. KeyboardInterupt\n",
    "9. StopIterationError\n",
    "10.EnvitonmentalError\n",
    "11.IOError\n",
    "12.NotImplementedError\n",
    "'''"
   ]
  },
  {
   "cell_type": "code",
   "execution_count": 9,
   "id": "eee40596-d677-4b32-b8aa-7c595599e5b5",
   "metadata": {},
   "outputs": [
    {
     "name": "stdin",
     "output_type": "stream",
     "text": [
      "Enter the numerator: 10\n",
      "Enter the denominator: 0\n"
     ]
    },
    {
     "name": "stdout",
     "output_type": "stream",
     "text": [
      "Denominator cannot br zero\n"
     ]
    }
   ],
   "source": [
    "# Handle Zero expception\n",
    "num1= int(input(\"Enter the numerator:\"))\n",
    "num2= int(input(\"Enter the denominator:\"))\n",
    "try :\n",
    "    quo=num1/num2\n",
    "    print(\"Quotient\",quo)\n",
    "except ZeroDivisionError:\n",
    "    print(\"Denominator cannot br zero\")\n"
   ]
  },
  {
   "cell_type": "code",
   "execution_count": null,
   "id": "e43d630e-8b68-4af3-b626-257e60a2e32b",
   "metadata": {},
   "outputs": [],
   "source": []
  }
 ],
 "metadata": {
  "kernelspec": {
   "display_name": "Python 3 (ipykernel)",
   "language": "python",
   "name": "python3"
  },
  "language_info": {
   "codemirror_mode": {
    "name": "ipython",
    "version": 3
   },
   "file_extension": ".py",
   "mimetype": "text/x-python",
   "name": "python",
   "nbconvert_exporter": "python",
   "pygments_lexer": "ipython3",
   "version": "3.12.7"
  }
 },
 "nbformat": 4,
 "nbformat_minor": 5
}
